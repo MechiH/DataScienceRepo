{
 "cells": [
  {
   "cell_type": "markdown",
   "metadata": {
    "collapsed": true
   },
   "source": [
    "# Investigating Amazon games reviews\n",
    "\n",
    "Current dataset is a part of big Amazon review dataset, picked from category games. It is a balanced subsamle, which means that number of reviews of each score is approximately the same. This research aims to predict review score based on review text."
   ]
  },
  {
   "cell_type": "markdown",
   "metadata": {},
   "source": [
    "## Data preparation\n",
    "\n",
    "Read data from file"
   ]
  },
  {
   "cell_type": "code",
   "execution_count": 1,
   "metadata": {},
   "outputs": [],
   "source": [
    "import json\n",
    "import numpy as np\n",
    "\n",
    "texts = []\n",
    "scores = []\n",
    "\n",
    "with open(\"./data/Games_5876.json\", \"r\") as json_file:\n",
    "    for line in json_file:\n",
    "        str = json.loads(line)\n",
    "        texts.append(str[\"text\"])\n",
    "        scores.append(str[\"overall\"])\n",
    "        \n",
    "texts = np.asarray(texts)\n",
    "scores = np.asarray(scores)"
   ]
  },
  {
   "cell_type": "markdown",
   "metadata": {},
   "source": [
    "Number of rows in data file: "
   ]
  },
  {
   "cell_type": "code",
   "execution_count": 2,
   "metadata": {},
   "outputs": [
    {
     "data": {
      "text/plain": [
       "5876"
      ]
     },
     "execution_count": 2,
     "metadata": {},
     "output_type": "execute_result"
    }
   ],
   "source": [
    "len(texts)"
   ]
  },
  {
   "cell_type": "markdown",
   "metadata": {},
   "source": [
    "Each row in dataset consists of review and score. Review is a combination of short summary that was made uppercase and added before review text. Score is a value from 1.0 to 5.0. Examle:"
   ]
  },
  {
   "cell_type": "code",
   "execution_count": 3,
   "metadata": {},
   "outputs": [
    {
     "name": "stdout",
     "output_type": "stream",
     "text": [
      "THEY ARE JUST OK\n",
      "These slides are just as they advertised. Now that we have them, I would have preferred to buy a set with just one specimen per slide in a bigger kit. This set is just adequate.\n",
      "2.0\n"
     ]
    }
   ],
   "source": [
    "print(texts[0])\n",
    "print(scores[0])"
   ]
  },
  {
   "cell_type": "markdown",
   "metadata": {},
   "source": [
    "Number of reviews in each group:"
   ]
  },
  {
   "cell_type": "code",
   "execution_count": 4,
   "metadata": {},
   "outputs": [
    {
     "name": "stdout",
     "output_type": "stream",
     "text": [
      "Score 1, number of items: 1175\n",
      "Score 2, number of items: 1175\n",
      "Score 3, number of items: 1176\n",
      "Score 4, number of items: 1175\n",
      "Score 5, number of items: 1175\n"
     ]
    }
   ],
   "source": [
    "for i in range(1, 6):\n",
    "    print(\"Score {}, number of items: {}\".format(i, sum(scores == i)))"
   ]
  },
  {
   "cell_type": "markdown",
   "metadata": {},
   "source": [
    "Other reseaches show low results in score classification. Usually, they cannot reach accuracy higher than 60%. It happens because it is difficult to distinguish between scores that are similar, e.g. 1 and 2 or 4 and 5. Instead, we make a binary classification and choose between positive and negative reviews. 1 and 2 is negative; 4 and 5 is positive. Score 3 is ignored, since it is difficult to put it into one of these groups."
   ]
  },
  {
   "cell_type": "code",
   "execution_count": 5,
   "metadata": {},
   "outputs": [
    {
     "name": "stdout",
     "output_type": "stream",
     "text": [
      "Score True, number of items: 2350\n",
      "Score False, number of items: 2350\n"
     ]
    }
   ],
   "source": [
    "texts = texts[scores != 3]\n",
    "scores = scores[scores != 3]\n",
    "scores = 3 < scores\n",
    "\n",
    "for i in [True, False]:\n",
    "    print(\"Score {}, number of items: {}\".format(i, sum(scores == i)))"
   ]
  },
  {
   "cell_type": "markdown",
   "metadata": {},
   "source": [
    "Try combinations of different classifiers and vectorizers. First fill different vectorizers."
   ]
  },
  {
   "cell_type": "code",
   "execution_count": 6,
   "metadata": {},
   "outputs": [],
   "source": [
    "from sklearn.feature_extraction.text import CountVectorizer, TfidfVectorizer\n",
    "\n",
    "vectorizers = {}\n",
    "vectorizers[\"CountVectorizer\"] = CountVectorizer()\n",
    "vectorizers[\"TfidfVectorizer\"] = TfidfVectorizer()"
   ]
  },
  {
   "cell_type": "markdown",
   "metadata": {},
   "source": [
    "Try different classifiers (Multinomial Naive Bayes, SVM, Random Forest)"
   ]
  },
  {
   "cell_type": "code",
   "execution_count": 7,
   "metadata": {},
   "outputs": [],
   "source": [
    "from sklearn.naive_bayes import MultinomialNB\n",
    "from sklearn.svm import LinearSVC\n",
    "\n",
    "classifiers = {}\n",
    "classifiers[\"MultinomialNB\"] = MultinomialNB()\n",
    "classifiers[\"LinearSVC\"] = LinearSVC(dual=False)\n",
    "\n",
    "param_grids={} \n",
    "param_grids[\"MultinomialNB\"] = {'clf__alpha': (0.1, 1.0)}\n",
    "param_grids[\"LinearSVC\"] = {'clf__penalty': ('l1', 'l2')}\n"
   ]
  },
  {
   "cell_type": "markdown",
   "metadata": {},
   "source": [
    "Loop through all combinations of vectorizers and models and try different variations of parameters. Apply cross validation and calculate accuracy and AUC value."
   ]
  },
  {
   "cell_type": "code",
   "execution_count": 8,
   "metadata": {},
   "outputs": [
    {
     "name": "stdout",
     "output_type": "stream",
     "text": [
      "Calculating CountVectorizer MultinomialNB\n",
      "CountVectorizer MultinomialNB: accuracy = [ 0.85489362  0.85680851  0.87595745  0.87638298]; AUC = [ 0.92433228  0.92530376  0.94066455  0.94053871];\n",
      "Best score = 0.9406645540968763; Best params = {'clf__alpha': 1.0, 'vect__max_df': 0.5}\n",
      "Calculating CountVectorizer LinearSVC\n",
      "CountVectorizer LinearSVC: accuracy = [ 0.86191489  0.86297872  0.86765957  0.86787234]; AUC = [ 0.93338705  0.93326845  0.93613762  0.93742055];\n",
      "Best score = 0.9374205522861022; Best params = {'clf__penalty': 'l2', 'vect__max_df': 1.0}\n",
      "Calculating TfidfVectorizer MultinomialNB\n",
      "TfidfVectorizer MultinomialNB: accuracy = [ 0.84531915  0.84382979  0.86808511  0.87085106]; AUC = [ 0.92880851  0.92957266  0.94768493  0.94784427];\n",
      "Best score = 0.9478442734268901; Best params = {'clf__alpha': 1.0, 'vect__max_df': 1.0}\n",
      "Calculating TfidfVectorizer LinearSVC\n",
      "TfidfVectorizer LinearSVC: accuracy = [ 0.88489362  0.88170213  0.88404255  0.88659574]; AUC = [ 0.9533789   0.95375373  0.95609054  0.95722046];\n",
      "Best score = 0.9572204617473971; Best params = {'clf__penalty': 'l2', 'vect__max_df': 1.0}\n"
     ]
    }
   ],
   "source": [
    "from sklearn.model_selection import GridSearchCV\n",
    "from sklearn.metrics import make_scorer\n",
    "from sklearn.metrics import accuracy_score\n",
    "from sklearn.pipeline import Pipeline\n",
    "\n",
    "np.random.seed(123)\n",
    "scoring = {'AUC': 'roc_auc', 'Accuracy': make_scorer(accuracy_score)}\n",
    "results = {}\n",
    "\n",
    "for vect_name, vectorizer in vectorizers.items():\n",
    "    for cls_name, classifier in classifiers.items():\n",
    "        name = \"{} {}\".format(vect_name, cls_name)\n",
    "        print(\"Calculating {}\".format(name))\n",
    "        pipeline = Pipeline([\n",
    "            ('vect', vectorizer),\n",
    "            ('clf', classifier)\n",
    "        ])\n",
    "        \n",
    "        cls_grid = param_grids[cls_name]\n",
    "        param_grid = {'vect__max_df': (0.5, 1.0)}\n",
    "        param_grid = {**param_grid, **cls_grid}\n",
    "        gs = GridSearchCV(pipeline, param_grid=param_grid, scoring=scoring, cv=5, refit='AUC', return_train_score=True)\n",
    "        gs.fit(texts, scores)\n",
    "        result = gs.cv_results_ \n",
    "        print(\"{}: accuracy = {}; AUC = {};\".format(name, result[\"mean_test_Accuracy\"], result[\"mean_test_AUC\"]))\n",
    "        print(\"Best score = {}; Best params = {}\".format(gs.best_score_, gs.best_params_))\n",
    "        results[name] = gs.best_estimator_"
   ]
  },
  {
   "cell_type": "markdown",
   "metadata": {},
   "source": [
    "The best AUC score achieved by model is 0.95722, accuracy: 0.8866. This result is shown by LinearSVC and TfidfVectorizer."
   ]
  },
  {
   "cell_type": "code",
   "execution_count": 11,
   "metadata": {},
   "outputs": [
    {
     "name": "stdout",
     "output_type": "stream",
     "text": [
      "Pipeline(memory=None,\n",
      "     steps=[('vect', TfidfVectorizer(analyzer='word', binary=False, decode_error='strict',\n",
      "        dtype=<class 'numpy.int64'>, encoding='utf-8', input='content',\n",
      "        lowercase=True, max_df=1.0, max_features=None, min_df=1,\n",
      "        ngram_range=(1, 1), norm='l2', preprocessor=None, smooth_idf=True,\n",
      "  ...ax_iter=1000,\n",
      "     multi_class='ovr', penalty='l2', random_state=None, tol=0.0001,\n",
      "     verbose=0))])\n"
     ]
    }
   ],
   "source": [
    "print(results[\"TfidfVectorizer LinearSVC\"])"
   ]
  },
  {
   "cell_type": "code",
   "execution_count": null,
   "metadata": {},
   "outputs": [],
   "source": []
  }
 ],
 "metadata": {
  "kernelspec": {
   "display_name": "Python 3",
   "language": "python",
   "name": "python3"
  },
  "language_info": {
   "codemirror_mode": {
    "name": "ipython",
    "version": 3
   },
   "file_extension": ".py",
   "mimetype": "text/x-python",
   "name": "python",
   "nbconvert_exporter": "python",
   "pygments_lexer": "ipython3",
   "version": "3.6.2"
  }
 },
 "nbformat": 4,
 "nbformat_minor": 1
}
