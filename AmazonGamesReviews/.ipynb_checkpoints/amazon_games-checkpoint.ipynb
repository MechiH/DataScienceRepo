{
 "cells": [
  {
   "cell_type": "markdown",
   "metadata": {
    "collapsed": true
   },
   "source": [
    "# Investigating Amazon games reviews\n",
    "\n",
    "Current dataset is a part of big Amazon review dataset, picked from category games. It is a balanced subsamle, which means that number of reviews of each score is approximately the same. This research aims to predict review score based on review text."
   ]
  },
  {
   "cell_type": "markdown",
   "metadata": {},
   "source": [
    "## Data preparation\n",
    "\n",
    "Read data from file"
   ]
  },
  {
   "cell_type": "code",
   "execution_count": 7,
   "metadata": {},
   "outputs": [],
   "source": [
    "import json\n",
    "import numpy as np\n",
    "\n",
    "texts = []\n",
    "summaries = []\n",
    "\n",
    "with open(\"./data/Games_5876.json\", \"r\") as json_file:\n",
    "    for line in json_file:\n",
    "        str = json.loads(line)\n",
    "        texts.append(str[\"text\"])\n",
    "        summaries.append(str[\"overall\"])\n",
    "        \n",
    "texts = np.asarray(texts)\n",
    "summaries = np.asarray(summaries)"
   ]
  },
  {
   "cell_type": "markdown",
   "metadata": {},
   "source": [
    "Number of rows in data file: "
   ]
  },
  {
   "cell_type": "code",
   "execution_count": 8,
   "metadata": {},
   "outputs": [
    {
     "data": {
      "text/plain": [
       "5876"
      ]
     },
     "execution_count": 8,
     "metadata": {},
     "output_type": "execute_result"
    }
   ],
   "source": [
    "len(texts)"
   ]
  },
  {
   "cell_type": "markdown",
   "metadata": {},
   "source": [
    "Each row in dataset consists of review and score. Review is a combination of short summary that was made uppercase and added before review text. Score is a value from 1.0 to 5.0. Examle:"
   ]
  },
  {
   "cell_type": "code",
   "execution_count": 9,
   "metadata": {},
   "outputs": [
    {
     "name": "stdout",
     "output_type": "stream",
     "text": [
      "THEY ARE JUST OK\n",
      "These slides are just as they advertised. Now that we have them, I would have preferred to buy a set with just one specimen per slide in a bigger kit. This set is just adequate.\n",
      "2.0\n"
     ]
    }
   ],
   "source": [
    "print(texts[0])\n",
    "print(summaries[0])"
   ]
  },
  {
   "cell_type": "markdown",
   "metadata": {},
   "source": [
    "Number of reviews in each group:"
   ]
  },
  {
   "cell_type": "code",
   "execution_count": 12,
   "metadata": {},
   "outputs": [
    {
     "name": "stdout",
     "output_type": "stream",
     "text": [
      "Score 1, number of items: 1175\n",
      "Score 2, number of items: 1175\n",
      "Score 3, number of items: 1176\n",
      "Score 4, number of items: 1175\n",
      "Score 5, number of items: 1175\n"
     ]
    }
   ],
   "source": [
    "for i in range(1, 6):\n",
    "    print(\"Score {}, number of items: {}\".format(i, sum(summaries == i)))"
   ]
  },
  {
   "cell_type": "code",
   "execution_count": null,
   "metadata": {},
   "outputs": [],
   "source": []
  }
 ],
 "metadata": {
  "kernelspec": {
   "display_name": "Python 3",
   "language": "python",
   "name": "python3"
  },
  "language_info": {
   "codemirror_mode": {
    "name": "ipython",
    "version": 3
   },
   "file_extension": ".py",
   "mimetype": "text/x-python",
   "name": "python",
   "nbconvert_exporter": "python",
   "pygments_lexer": "ipython3",
   "version": "3.6.2"
  }
 },
 "nbformat": 4,
 "nbformat_minor": 1
}
